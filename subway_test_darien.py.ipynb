{
 "cells": [
  {
   "cell_type": "code",
   "execution_count": 52,
   "metadata": {},
   "outputs": [],
   "source": [
    "import pandas as pd\n",
    "import numpy as np\n",
    "\n",
    "# setting option to round floats to 2 sig figs and also avoid scientific notation\n",
    "\n",
    "pd.set_option('display.float_format', '{:.2f}'.format) "
   ]
  },
  {
   "cell_type": "code",
   "execution_count": 53,
   "metadata": {},
   "outputs": [],
   "source": [
    "# reading in the data\n",
    "\n",
    "df = pd.read_csv('May_25_2019.csv')"
   ]
  },
  {
   "cell_type": "markdown",
   "metadata": {},
   "source": [
    "## Cleaning the data"
   ]
  },
  {
   "cell_type": "code",
   "execution_count": 54,
   "metadata": {},
   "outputs": [],
   "source": [
    "# clearing whitespace from column names\n",
    "\n",
    "df.rename(columns=lambda x: x.strip(), inplace=True)"
   ]
  },
  {
   "cell_type": "code",
   "execution_count": 55,
   "metadata": {},
   "outputs": [],
   "source": [
    "# removing columsn that we have not been using thus far, if we think we need them later it's easy to add them\n",
    "\n",
    "df = df.drop([\"C/A\", \"LINENAME\", \"DIVISION\", \"DESC\"], axis=1)"
   ]
  },
  {
   "cell_type": "code",
   "execution_count": 62,
   "metadata": {},
   "outputs": [],
   "source": [
    "# adding days of the week so we can differentiate between week day and weekend\n",
    "\n",
    "df.DATE = pd.to_datetime(df.DATE)\n",
    "df['WEEKDAY'] = df.DATE.dt.dayofweek\n",
    "days = {0:'Mon',1:'Tues',2:'Weds',3:'Thurs',4:'Fri',5:'Sat',6:'Sun'}\n",
    "df.WEEKDAY = df.WEEKDAY.apply(lambda x: days[x])\n",
    "\n",
    "# do we need/want a column to identify if the day a workday or weekend?\n",
    "\n",
    "# work_days = {0:'Workday',1:'Workday',2:'Workday',3:'Workday',4:'Workday',5:'Weekend',6:'Weekend'}\n",
    "# df['WORKDAY'] = df.WEEKDAY.apply(lambda x: work_days[x])\n"
   ]
  },
  {
   "cell_type": "code",
   "execution_count": 66,
   "metadata": {},
   "outputs": [
    {
     "data": {
      "text/html": [
       "<div>\n",
       "<style scoped>\n",
       "    .dataframe tbody tr th:only-of-type {\n",
       "        vertical-align: middle;\n",
       "    }\n",
       "\n",
       "    .dataframe tbody tr th {\n",
       "        vertical-align: top;\n",
       "    }\n",
       "\n",
       "    .dataframe thead th {\n",
       "        text-align: right;\n",
       "    }\n",
       "</style>\n",
       "<table border=\"1\" class=\"dataframe\">\n",
       "  <thead>\n",
       "    <tr style=\"text-align: right;\">\n",
       "      <th></th>\n",
       "      <th>UNIT</th>\n",
       "      <th>SCP</th>\n",
       "      <th>STATION</th>\n",
       "      <th>DATE</th>\n",
       "      <th>WEEKDAY</th>\n",
       "      <th>TIME</th>\n",
       "      <th>ENTRIES</th>\n",
       "      <th>EXITS</th>\n",
       "    </tr>\n",
       "  </thead>\n",
       "  <tbody>\n",
       "    <tr>\n",
       "      <th>0</th>\n",
       "      <td>R051</td>\n",
       "      <td>02-00-00</td>\n",
       "      <td>59 ST</td>\n",
       "      <td>2019-05-18</td>\n",
       "      <td>Sat</td>\n",
       "      <td>00:00:00</td>\n",
       "      <td>7062481</td>\n",
       "      <td>2393489</td>\n",
       "    </tr>\n",
       "    <tr>\n",
       "      <th>1</th>\n",
       "      <td>R051</td>\n",
       "      <td>02-00-00</td>\n",
       "      <td>59 ST</td>\n",
       "      <td>2019-05-18</td>\n",
       "      <td>Sat</td>\n",
       "      <td>04:00:00</td>\n",
       "      <td>7062505</td>\n",
       "      <td>2393492</td>\n",
       "    </tr>\n",
       "    <tr>\n",
       "      <th>2</th>\n",
       "      <td>R051</td>\n",
       "      <td>02-00-00</td>\n",
       "      <td>59 ST</td>\n",
       "      <td>2019-05-18</td>\n",
       "      <td>Sat</td>\n",
       "      <td>08:00:00</td>\n",
       "      <td>7062529</td>\n",
       "      <td>2393526</td>\n",
       "    </tr>\n",
       "    <tr>\n",
       "      <th>3</th>\n",
       "      <td>R051</td>\n",
       "      <td>02-00-00</td>\n",
       "      <td>59 ST</td>\n",
       "      <td>2019-05-18</td>\n",
       "      <td>Sat</td>\n",
       "      <td>12:00:00</td>\n",
       "      <td>7062627</td>\n",
       "      <td>2393612</td>\n",
       "    </tr>\n",
       "    <tr>\n",
       "      <th>4</th>\n",
       "      <td>R051</td>\n",
       "      <td>02-00-00</td>\n",
       "      <td>59 ST</td>\n",
       "      <td>2019-05-18</td>\n",
       "      <td>Sat</td>\n",
       "      <td>16:00:00</td>\n",
       "      <td>7062835</td>\n",
       "      <td>2393662</td>\n",
       "    </tr>\n",
       "  </tbody>\n",
       "</table>\n",
       "</div>"
      ],
      "text/plain": [
       "   UNIT       SCP STATION       DATE WEEKDAY      TIME  ENTRIES    EXITS\n",
       "0  R051  02-00-00   59 ST 2019-05-18     Sat  00:00:00  7062481  2393489\n",
       "1  R051  02-00-00   59 ST 2019-05-18     Sat  04:00:00  7062505  2393492\n",
       "2  R051  02-00-00   59 ST 2019-05-18     Sat  08:00:00  7062529  2393526\n",
       "3  R051  02-00-00   59 ST 2019-05-18     Sat  12:00:00  7062627  2393612\n",
       "4  R051  02-00-00   59 ST 2019-05-18     Sat  16:00:00  7062835  2393662"
      ]
     },
     "execution_count": 66,
     "metadata": {},
     "output_type": "execute_result"
    }
   ],
   "source": [
    "df = df.reindex(columns=['UNIT', 'SCP', 'STATION', 'DATE','WEEKDAY', 'TIME', 'ENTRIES', 'EXITS'])\n",
    "df.head()"
   ]
  },
  {
   "cell_type": "markdown",
   "metadata": {},
   "source": [
    "### Cleaning the data\n",
    "#### Our first goal to find the average amount of entries and exits for the top 10 busiest stations"
   ]
  },
  {
   "cell_type": "code",
   "execution_count": 67,
   "metadata": {},
   "outputs": [
    {
     "name": "stderr",
     "output_type": "stream",
     "text": [
      "/opt/anaconda3/lib/python3.7/site-packages/ipykernel_launcher.py:3: FutureWarning: Indexing with multiple keys (implicitly converted to a tuple of keys) will be deprecated, use a list instead.\n",
      "  This is separate from the ipykernel package so we can avoid doing imports until\n"
     ]
    }
   ],
   "source": [
    "# group data by station, unit, scp, which allows us to look at the entries and exits for each individual turnstile.\n",
    "\n",
    "turnstiles = df.groupby(['STATION','UNIT','SCP'])['ENTRIES', 'EXITS'].agg(np.ptp) \n"
   ]
  },
  {
   "cell_type": "code",
   "execution_count": 39,
   "metadata": {},
   "outputs": [],
   "source": [
    "# df[(df.STATION == 'BAYCHESTER AV') & (df.UNIT == 'R292')].tail(50)"
   ]
  },
  {
   "cell_type": "code",
   "execution_count": 40,
   "metadata": {},
   "outputs": [],
   "source": [
    "def outlier_check(df, station, scp, n=50):\n",
    "    return df[(df.STATION == station) & (df.SCP == scp)].head(n)\n",
    "\n",
    "# outlier_check(df,'3 AV-149 ST', '00-00-03', 30)"
   ]
  },
  {
   "cell_type": "code",
   "execution_count": 15,
   "metadata": {},
   "outputs": [
    {
     "data": {
      "text/html": [
       "<div>\n",
       "<style scoped>\n",
       "    .dataframe tbody tr th:only-of-type {\n",
       "        vertical-align: middle;\n",
       "    }\n",
       "\n",
       "    .dataframe tbody tr th {\n",
       "        vertical-align: top;\n",
       "    }\n",
       "\n",
       "    .dataframe thead th {\n",
       "        text-align: right;\n",
       "    }\n",
       "</style>\n",
       "<table border=\"1\" class=\"dataframe\">\n",
       "  <thead>\n",
       "    <tr style=\"text-align: right;\">\n",
       "      <th></th>\n",
       "      <th>ENTRIES</th>\n",
       "      <th>EXITS</th>\n",
       "    </tr>\n",
       "    <tr>\n",
       "      <th>STATION</th>\n",
       "      <th></th>\n",
       "      <th></th>\n",
       "    </tr>\n",
       "  </thead>\n",
       "  <tbody>\n",
       "    <tr>\n",
       "      <th>1 AV</th>\n",
       "      <td>106522</td>\n",
       "      <td>118986</td>\n",
       "    </tr>\n",
       "    <tr>\n",
       "      <th>103 ST</th>\n",
       "      <td>197412</td>\n",
       "      <td>135063</td>\n",
       "    </tr>\n",
       "    <tr>\n",
       "      <th>103 ST-CORONA</th>\n",
       "      <td>126914</td>\n",
       "      <td>81631</td>\n",
       "    </tr>\n",
       "    <tr>\n",
       "      <th>104 ST</th>\n",
       "      <td>27947</td>\n",
       "      <td>12362</td>\n",
       "    </tr>\n",
       "    <tr>\n",
       "      <th>110 ST</th>\n",
       "      <td>67027</td>\n",
       "      <td>60516</td>\n",
       "    </tr>\n",
       "    <tr>\n",
       "      <th>...</th>\n",
       "      <td>...</td>\n",
       "      <td>...</td>\n",
       "    </tr>\n",
       "    <tr>\n",
       "      <th>WOODLAWN</th>\n",
       "      <td>43498</td>\n",
       "      <td>10468</td>\n",
       "    </tr>\n",
       "    <tr>\n",
       "      <th>WORLD TRADE CTR</th>\n",
       "      <td>108459</td>\n",
       "      <td>87582</td>\n",
       "    </tr>\n",
       "    <tr>\n",
       "      <th>WTC-CORTLANDT</th>\n",
       "      <td>77171</td>\n",
       "      <td>61683</td>\n",
       "    </tr>\n",
       "    <tr>\n",
       "      <th>YORK ST</th>\n",
       "      <td>79652</td>\n",
       "      <td>39698</td>\n",
       "    </tr>\n",
       "    <tr>\n",
       "      <th>ZEREGA AV</th>\n",
       "      <td>15542</td>\n",
       "      <td>14079</td>\n",
       "    </tr>\n",
       "  </tbody>\n",
       "</table>\n",
       "<p>378 rows × 2 columns</p>\n",
       "</div>"
      ],
      "text/plain": [
       "                 ENTRIES   EXITS\n",
       "STATION                         \n",
       "1 AV              106522  118986\n",
       "103 ST            197412  135063\n",
       "103 ST-CORONA     126914   81631\n",
       "104 ST             27947   12362\n",
       "110 ST             67027   60516\n",
       "...                  ...     ...\n",
       "WOODLAWN           43498   10468\n",
       "WORLD TRADE CTR   108459   87582\n",
       "WTC-CORTLANDT      77171   61683\n",
       "YORK ST            79652   39698\n",
       "ZEREGA AV          15542   14079\n",
       "\n",
       "[378 rows x 2 columns]"
      ]
     },
     "execution_count": 15,
     "metadata": {},
     "output_type": "execute_result"
    }
   ],
   "source": [
    "turnstiles.groupby('STATION').sum()"
   ]
  },
  {
   "cell_type": "code",
   "execution_count": 16,
   "metadata": {},
   "outputs": [
    {
     "name": "stderr",
     "output_type": "stream",
     "text": [
      "/opt/anaconda3/lib/python3.7/site-packages/ipykernel_launcher.py:2: FutureWarning: Indexing with multiple keys (implicitly converted to a tuple of keys) will be deprecated, use a list instead.\n",
      "  \n"
     ]
    },
    {
     "data": {
      "text/html": [
       "<div>\n",
       "<style scoped>\n",
       "    .dataframe tbody tr th:only-of-type {\n",
       "        vertical-align: middle;\n",
       "    }\n",
       "\n",
       "    .dataframe tbody tr th {\n",
       "        vertical-align: top;\n",
       "    }\n",
       "\n",
       "    .dataframe thead th {\n",
       "        text-align: right;\n",
       "    }\n",
       "</style>\n",
       "<table border=\"1\" class=\"dataframe\">\n",
       "  <thead>\n",
       "    <tr style=\"text-align: right;\">\n",
       "      <th></th>\n",
       "      <th>ENTRIES</th>\n",
       "      <th>EXITS</th>\n",
       "    </tr>\n",
       "    <tr>\n",
       "      <th>STATION</th>\n",
       "      <th></th>\n",
       "      <th></th>\n",
       "    </tr>\n",
       "  </thead>\n",
       "  <tbody>\n",
       "    <tr>\n",
       "      <th>AVENUE N</th>\n",
       "      <td>1174424938</td>\n",
       "      <td>34072</td>\n",
       "    </tr>\n",
       "    <tr>\n",
       "      <th>FULTON ST</th>\n",
       "      <td>565091459</td>\n",
       "      <td>559818016</td>\n",
       "    </tr>\n",
       "    <tr>\n",
       "      <th>CANARSIE-ROCKAW</th>\n",
       "      <td>15479293</td>\n",
       "      <td>7615692</td>\n",
       "    </tr>\n",
       "    <tr>\n",
       "      <th>KINGSTON-THROOP</th>\n",
       "      <td>9062988</td>\n",
       "      <td>2874801</td>\n",
       "    </tr>\n",
       "    <tr>\n",
       "      <th>GRAND ST</th>\n",
       "      <td>7175848</td>\n",
       "      <td>5290683</td>\n",
       "    </tr>\n",
       "    <tr>\n",
       "      <th>14 ST</th>\n",
       "      <td>6912283</td>\n",
       "      <td>8795359</td>\n",
       "    </tr>\n",
       "    <tr>\n",
       "      <th>THIRTY ST</th>\n",
       "      <td>3147338</td>\n",
       "      <td>710471</td>\n",
       "    </tr>\n",
       "    <tr>\n",
       "      <th>KINGS HWY</th>\n",
       "      <td>1257615</td>\n",
       "      <td>1403837</td>\n",
       "    </tr>\n",
       "    <tr>\n",
       "      <th>34 ST-PENN STA</th>\n",
       "      <td>1040629</td>\n",
       "      <td>961122</td>\n",
       "    </tr>\n",
       "    <tr>\n",
       "      <th>GRD CNTRL-42 ST</th>\n",
       "      <td>875747</td>\n",
       "      <td>809330</td>\n",
       "    </tr>\n",
       "  </tbody>\n",
       "</table>\n",
       "</div>"
      ],
      "text/plain": [
       "                    ENTRIES      EXITS\n",
       "STATION                               \n",
       "AVENUE N         1174424938      34072\n",
       "FULTON ST         565091459  559818016\n",
       "CANARSIE-ROCKAW    15479293    7615692\n",
       "KINGSTON-THROOP     9062988    2874801\n",
       "GRAND ST            7175848    5290683\n",
       "14 ST               6912283    8795359\n",
       "THIRTY ST           3147338     710471\n",
       "KINGS HWY           1257615    1403837\n",
       "34 ST-PENN STA      1040629     961122\n",
       "GRD CNTRL-42 ST      875747     809330"
      ]
     },
     "execution_count": 16,
     "metadata": {},
     "output_type": "execute_result"
    }
   ],
   "source": [
    "# this represents the stations with the most ENTRIES for the week of May 11 to May 17 INCLUDING outliers\n",
    "turnstiles.groupby('STATION')['ENTRIES', 'EXITS'].sum().sort_values('ENTRIES', ascending=False).head(10)"
   ]
  },
  {
   "cell_type": "code",
   "execution_count": 17,
   "metadata": {},
   "outputs": [
    {
     "name": "stderr",
     "output_type": "stream",
     "text": [
      "/opt/anaconda3/lib/python3.7/site-packages/ipykernel_launcher.py:1: FutureWarning: Indexing with multiple keys (implicitly converted to a tuple of keys) will be deprecated, use a list instead.\n",
      "  \"\"\"Entry point for launching an IPython kernel.\n"
     ]
    },
    {
     "data": {
      "text/html": [
       "<div>\n",
       "<style scoped>\n",
       "    .dataframe tbody tr th:only-of-type {\n",
       "        vertical-align: middle;\n",
       "    }\n",
       "\n",
       "    .dataframe tbody tr th {\n",
       "        vertical-align: top;\n",
       "    }\n",
       "\n",
       "    .dataframe thead th {\n",
       "        text-align: right;\n",
       "    }\n",
       "</style>\n",
       "<table border=\"1\" class=\"dataframe\">\n",
       "  <thead>\n",
       "    <tr style=\"text-align: right;\">\n",
       "      <th></th>\n",
       "      <th>ENTRIES</th>\n",
       "      <th>EXITS</th>\n",
       "    </tr>\n",
       "  </thead>\n",
       "  <tbody>\n",
       "    <tr>\n",
       "      <th>count</th>\n",
       "      <td>378.00</td>\n",
       "      <td>378.00</td>\n",
       "    </tr>\n",
       "    <tr>\n",
       "      <th>mean</th>\n",
       "      <td>4812406.74</td>\n",
       "      <td>1638228.71</td>\n",
       "    </tr>\n",
       "    <tr>\n",
       "      <th>std</th>\n",
       "      <td>66959173.51</td>\n",
       "      <td>28794010.74</td>\n",
       "    </tr>\n",
       "    <tr>\n",
       "      <th>min</th>\n",
       "      <td>10.00</td>\n",
       "      <td>0.00</td>\n",
       "    </tr>\n",
       "    <tr>\n",
       "      <th>25%</th>\n",
       "      <td>27929.00</td>\n",
       "      <td>18447.00</td>\n",
       "    </tr>\n",
       "    <tr>\n",
       "      <th>50%</th>\n",
       "      <td>55759.00</td>\n",
       "      <td>38006.00</td>\n",
       "    </tr>\n",
       "    <tr>\n",
       "      <th>75%</th>\n",
       "      <td>112556.75</td>\n",
       "      <td>90589.50</td>\n",
       "    </tr>\n",
       "    <tr>\n",
       "      <th>max</th>\n",
       "      <td>1174424938.00</td>\n",
       "      <td>559818016.00</td>\n",
       "    </tr>\n",
       "  </tbody>\n",
       "</table>\n",
       "</div>"
      ],
      "text/plain": [
       "            ENTRIES        EXITS\n",
       "count        378.00       378.00\n",
       "mean     4812406.74   1638228.71\n",
       "std     66959173.51  28794010.74\n",
       "min           10.00         0.00\n",
       "25%        27929.00     18447.00\n",
       "50%        55759.00     38006.00\n",
       "75%       112556.75     90589.50\n",
       "max   1174424938.00 559818016.00"
      ]
     },
     "execution_count": 17,
     "metadata": {},
     "output_type": "execute_result"
    }
   ],
   "source": [
    "turnstiles.groupby('STATION')['ENTRIES', 'EXITS'].sum().describe()"
   ]
  },
  {
   "cell_type": "code",
   "execution_count": 30,
   "metadata": {},
   "outputs": [
    {
     "name": "stderr",
     "output_type": "stream",
     "text": [
      "/opt/anaconda3/lib/python3.7/site-packages/ipykernel_launcher.py:10: FutureWarning: Indexing with multiple keys (implicitly converted to a tuple of keys) will be deprecated, use a list instead.\n",
      "  # Remove the CWD from sys.path while we load stuff.\n",
      "/opt/anaconda3/lib/python3.7/site-packages/ipykernel_launcher.py:11: FutureWarning: Indexing with multiple keys (implicitly converted to a tuple of keys) will be deprecated, use a list instead.\n",
      "  # This is added back by InteractiveShellApp.init_path()\n"
     ]
    },
    {
     "data": {
      "text/plain": [
       "(STATION\n",
       " 34 ST-PENN STA    148661.29\n",
       " GRD CNTRL-42 ST   125106.71\n",
       " 23 ST             119674.43\n",
       " 34 ST-HERALD SQ   109631.29\n",
       " 42 ST-PORT AUTH    93562.57\n",
       " 14 ST-UNION SQ     91299.00\n",
       " TIMES SQ-42 ST     88711.43\n",
       " FULTON ST          81943.86\n",
       " 86 ST              77149.29\n",
       " 125 ST             73278.43\n",
       " Name: ENTRIES, dtype: float64,\n",
       " STATION\n",
       " NEWARK HW BMEBE   208889.14\n",
       " TWENTY THIRD ST   156273.14\n",
       " 34 ST-PENN STA    137303.14\n",
       " GRD CNTRL-42 ST   115618.57\n",
       " 34 ST-HERALD SQ   101121.14\n",
       " JOURNAL SQUARE     88391.71\n",
       " TIMES SQ-42 ST     84086.43\n",
       " 14 ST-UNION SQ     83806.00\n",
       " 23 ST              81074.29\n",
       " JFK JAMAICA CT1    79223.71\n",
       " Name: EXITS, dtype: float64)"
      ]
     },
     "execution_count": 30,
     "metadata": {},
     "output_type": "execute_result"
    }
   ],
   "source": [
    "# sets the boundaries for the outliers according to the 1.5 * IQR rule\n",
    "\n",
    "upper = 115310.00 + 1.5*(115310.00 - 28549.00) \n",
    "lower = 28549.00 - 1.5*(115310.00 - 28549.00) \n",
    "\n",
    "# remove potential outliers\n",
    "turnstiles = turnstiles[(turnstiles.ENTRIES < upper) & (turnstiles.ENTRIES > lower)]\n",
    "\n",
    "# this represents the stations with the most ENTRIES and EXITS for the week of Jan 4 to Jan 10\n",
    "top_10_entries, top_10_exits = (turnstiles.groupby('STATION')['ENTRIES', 'EXITS'].sum().sort_values('ENTRIES', ascending=False).head(10), \n",
    " turnstiles.groupby('STATION')['ENTRIES', 'EXITS'].sum().sort_values('EXITS', ascending=False).head(10))\n",
    "\n",
    "# average daily number of passengers entering and exiting\n",
    "ave_daily_entries, ave_daily_exits = top_10_entries.ENTRIES/7, top_10_exits.EXITS/7\n",
    "ave_daily_entries, ave_daily_exits"
   ]
  },
  {
   "cell_type": "code",
   "execution_count": 28,
   "metadata": {},
   "outputs": [
    {
     "data": {
      "text/plain": [
       "<matplotlib.axes._subplots.AxesSubplot at 0x11d332fd0>"
      ]
     },
     "execution_count": 28,
     "metadata": {},
     "output_type": "execute_result"
    },
    {
     "data": {
      "image/png": "[encoded data removed]",
      "text/plain": [
       "<Figure size 432x288 with 1 Axes>"
      ]
     },
     "metadata": {
      "needs_background": "light"
     },
     "output_type": "display_data"
    }
   ],
   "source": [
    "ave_daily_entries.plot(kind='barh')"
   ]
  },
  {
   "cell_type": "code",
   "execution_count": 29,
   "metadata": {},
   "outputs": [
    {
     "data": {
      "text/plain": [
       "<matplotlib.axes._subplots.AxesSubplot at 0x11d6bff10>"
      ]
     },
     "execution_count": 29,
     "metadata": {},
     "output_type": "execute_result"
    },
    {
     "data": {
      "image/png": "[encoded data removed]",
      "text/plain": [
       "<Figure size 432x288 with 1 Axes>"
      ]
     },
     "metadata": {
      "needs_background": "light"
     },
     "output_type": "display_data"
    }
   ],
   "source": [
    "ave_daily_exits.plot(kind='barh')"
   ]
  },
  {
   "cell_type": "code",
   "execution_count": null,
   "metadata": {},
   "outputs": [],
   "source": []
  }
 ],
 "metadata": {
  "kernelspec": {
   "display_name": "Python 3",
   "language": "python",
   "name": "python3"
  },
  "language_info": {
   "codemirror_mode": {
    "name": "ipython",
    "version": 3
   },
   "file_extension": ".py",
   "mimetype": "text/x-python",
   "name": "python",
   "nbconvert_exporter": "python",
   "pygments_lexer": "ipython3",
   "version": "3.7.6"
  }
 },
 "nbformat": 4,
 "nbformat_minor": 4
}
